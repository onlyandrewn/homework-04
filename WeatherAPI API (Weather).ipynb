{
 "cells": [
  {
   "cell_type": "markdown",
   "metadata": {},
   "source": [
    "# WeatherAPI (Weather)\n",
    "\n",
    "Answer the following questions using [WeatherAPI](http://www.weatherapi.com/). I've added three cells for most questions but you're free to use more or less! Hold `Shift` and hit `Enter` to run a cell, and use the `+` on the top left to add a new cell to a notebook.\n",
    "\n",
    "Be sure to take advantage of both the documentation and the API Explorer!\n",
    "\n",
    "## 0) Import any libraries you might need\n",
    "\n",
    "- *Tip: We're going to be downloading things from the internet, so we probably need `requests`.*\n",
    "- *Tip: Remember you only need to import requests once!*"
   ]
  },
  {
   "cell_type": "code",
   "execution_count": 1,
   "metadata": {},
   "outputs": [],
   "source": [
    "import requests"
   ]
  },
  {
   "cell_type": "markdown",
   "metadata": {
    "collapsed": true
   },
   "source": [
    "## 1) Make a request to the Weather API for where you were born (or lived, or want to visit!).\n",
    "\n",
    "- *Tip: The URL we used in class was for a place near San Francisco. What was the format of the endpoint that made this happen?*\n",
    "- *Tip: Save the URL as a separate variable, and be sure to not have `[` and `]` inside.*\n",
    "- *Tip: How is north vs. south and east vs. west latitude/longitude represented? Is it the normal North/South/East/West?*\n",
    "- *Tip: You know it's JSON, but Python doesn't! Make sure you aren't trying to deal with plain text.* \n",
    "- *Tip: Once you've imported the JSON into a variable, check the timezone's name to make sure it seems like it got the right part of the world!*"
   ]
  },
  {
   "cell_type": "code",
   "execution_count": 2,
   "metadata": {},
   "outputs": [
    {
     "name": "stdout",
     "output_type": "stream",
     "text": [
      "{'location': {'name': 'Paris', 'region': 'Ile-de-France', 'country': 'France', 'lat': 48.87, 'lon': 2.33, 'tz_id': 'Europe/Paris', 'localtime_epoch': 1655422351, 'localtime': '2022-06-17 1:32'}, 'current': {'last_updated_epoch': 1655422200, 'last_updated': '2022-06-17 01:30', 'temp_c': 21.0, 'temp_f': 69.8, 'is_day': 0, 'condition': {'text': 'Clear', 'icon': '//cdn.weatherapi.com/weather/64x64/night/113.png', 'code': 1000}, 'wind_mph': 3.8, 'wind_kph': 6.1, 'wind_degree': 50, 'wind_dir': 'NE', 'pressure_mb': 1022.0, 'pressure_in': 30.18, 'precip_mm': 0.0, 'precip_in': 0.0, 'humidity': 53, 'cloud': 0, 'feelslike_c': 21.0, 'feelslike_f': 69.8, 'vis_km': 10.0, 'vis_miles': 6.0, 'uv': 1.0, 'gust_mph': 8.9, 'gust_kph': 14.4}}\n"
     ]
    }
   ],
   "source": [
    "location_visit = \"Paris\"\n",
    "\n",
    "url = \"http://api.weatherapi.com/v1/current.json?key=370edf33fe024c448d8171449221306&q=Paris\"\n",
    "response = requests.get(url)\n",
    "data = response.json()\n",
    "print(data)"
   ]
  },
  {
   "cell_type": "markdown",
   "metadata": {},
   "source": [
    "## 2) What's the current wind speed? How much warmer does it feel than it actually is?\n",
    "\n",
    "- *Tip: You can do this by browsing through the dictionaries, but it might be easier to read the documentation*\n",
    "- *Tip: For the second half: it **is** one temperature, and it **feels** a different temperature. Calculate the difference.*"
   ]
  },
  {
   "cell_type": "code",
   "execution_count": 3,
   "metadata": {},
   "outputs": [
    {
     "name": "stdout",
     "output_type": "stream",
     "text": [
      "The current wind speed in Paris is 3.8 mph.\n",
      "It is 0.0 degrees colder than the actual temperature in Paris.\n"
     ]
    }
   ],
   "source": [
    "location = data[\"location\"][\"name\"]\n",
    "wind_speed = data[\"current\"][\"wind_mph\"]\n",
    "\n",
    "temp_c = data[\"current\"][\"temp_c\"]\n",
    "feelslike_c = data[\"current\"][\"feelslike_c\"]\n",
    "temp_diff = feelslike_c - temp_c\n",
    "\n",
    "print(f\"The current wind speed in {location} is {wind_speed} mph.\")\n",
    "\n",
    "if feelslike_c > temp_c:\n",
    "    print(f\"It is {abs(temp_diff):.1f} degrees warmer than the actual temperature in {location}.\")\n",
    "else:\n",
    "    print(f\"It is {abs(temp_diff):.1f} degrees colder than the actual temperature in {location}.\")"
   ]
  },
  {
   "cell_type": "markdown",
   "metadata": {},
   "source": [
    "## 3) What is the API endpoint for moon-related information? For the place you decided on above, how much of the moon will be visible tomorrow?\n",
    "\n",
    "- *Tip: Check the documentation!*\n",
    "- *Tip: If you aren't sure what something means, ask in Slack*"
   ]
  },
  {
   "cell_type": "code",
   "execution_count": 4,
   "metadata": {},
   "outputs": [
    {
     "name": "stdout",
     "output_type": "stream",
     "text": [
      "There will be a full moon visible tomorrow.\n"
     ]
    }
   ],
   "source": [
    "url_moon = \"http://api.weatherapi.com/v1/astronomy.json?key=370edf33fe024c448d8171449221306&q=Paris&dt=2022-06-17\"\n",
    "response = requests.get(url_moon)\n",
    "data_moon = response.json()\n",
    "\n",
    "moon_phase = (data_moon[\"astronomy\"][\"astro\"][\"moon_phase\"]).lower()\n",
    "print(f\"There will be a {moon_phase} visible tomorrow.\")"
   ]
  },
  {
   "cell_type": "markdown",
   "metadata": {},
   "source": [
    "## 4) What's the difference between the high and low temperatures for today?\n",
    "\n",
    "- *Tip: When you requested moon data, you probably overwrote your variables! If so, you'll need to make a new request.*"
   ]
  },
  {
   "cell_type": "code",
   "execution_count": 5,
   "metadata": {},
   "outputs": [
    {
     "name": "stdout",
     "output_type": "stream",
     "text": [
      "The difference between the high and low temperatures is roughly 14 degrees.\n"
     ]
    }
   ],
   "source": [
    "import math\n",
    "\n",
    "url_today = \"http://api.weatherapi.com/v1/forecast.json?key=370edf33fe024c448d8171449221306&q=Paris&days=1\"\n",
    "response_today = requests.get(url_today)\n",
    "data_today = response_today.json()\n",
    "\n",
    "temp_high_today = data_today[\"forecast\"][\"forecastday\"][0][\"day\"][\"maxtemp_c\"]\n",
    "temp_low_today = data_today[\"forecast\"][\"forecastday\"][0][\"day\"][\"mintemp_c\"]\n",
    "temp_diff_today = math.floor(temp_high_today - temp_low_today)\n",
    "\n",
    "print(f\"The difference between the high and low temperatures is roughly {temp_diff_today} degrees.\")"
   ]
  },
  {
   "cell_type": "markdown",
   "metadata": {
    "collapsed": true
   },
   "source": [
    "## 4.5) How can you avoid the \"oh no I don't have the data any more because I made another request\" problem in the future?\n",
    "\n",
    "What variable(s) do you have to rename, and what would you rename them?"
   ]
  },
  {
   "cell_type": "code",
   "execution_count": 6,
   "metadata": {},
   "outputs": [],
   "source": [
    "# You may need to rename the variables for url, response and data\n",
    "# You can append _description to each of the three variables\n",
    "# i.e. url_variable_name, response_variable_name, data_variable_name"
   ]
  },
  {
   "cell_type": "markdown",
   "metadata": {},
   "source": [
    "## 5) Go through the daily forecasts, printing out the next three days' worth of predictions.\n",
    "\n",
    "I'd like to know the **high temperature** for each day, and whether it's **hot, warm, or cold** (based on what temperatures you think are hot, warm or cold).\n",
    "\n",
    "- *Tip: You'll need to use an `if` statement to say whether it is hot, warm or cold.*"
   ]
  },
  {
   "cell_type": "code",
   "execution_count": 7,
   "metadata": {},
   "outputs": [
    {
     "name": "stdout",
     "output_type": "stream",
     "text": [
      "32.8 degrees C is hot.\n",
      "36.7 degrees C is hot.\n",
      "31.9 degrees C is hot.\n"
     ]
    }
   ],
   "source": [
    "url_three_days = \"http://api.weatherapi.com/v1/forecast.json?key=370edf33fe024c448d8171449221306&q=Paris&days=3\"\n",
    "response_three_days = requests.get(url_three_days)\n",
    "data_three_days = response_three_days.json()\n",
    "\n",
    "high_temps = [temp[\"day\"][\"maxtemp_c\"] for temp in data_three_days[\"forecast\"][\"forecastday\"]]\n",
    "\n",
    "for temp in high_temps:\n",
    "    if temp >= 24:\n",
    "        print(temp, \"degrees C is hot.\")\n",
    "    elif temp >= 12:\n",
    "        print(temp, \"degrees C is warm.\")\n",
    "    elif temp < 0:\n",
    "        print(temp, \"degrees C is cold.\")"
   ]
  },
  {
   "cell_type": "markdown",
   "metadata": {},
   "source": [
    "## 5b) The question above used to be an entire week, but not any more. Try to re-use the code above to print out seven days.\n",
    "\n",
    "What happens? Can you figure out why it doesn't work?\n",
    "\n",
    "* *Tip: it has to do with the reason you're using an API key - maybe take a look at the \"Air Quality Data\" introduction for a hint? If you can't figure it out right now, no worries.*"
   ]
  },
  {
   "cell_type": "code",
   "execution_count": 8,
   "metadata": {},
   "outputs": [
    {
     "name": "stdout",
     "output_type": "stream",
     "text": [
      "32.8 degrees C is hot.\n",
      "36.7 degrees C is hot.\n",
      "31.9 degrees C is hot.\n"
     ]
    }
   ],
   "source": [
    "# It only provides data for three of the seven days requested.\n",
    "\n",
    "# Free tier allows for 3 day city and town weather. Daily and Hourly.\n",
    "# Starter tier allows for 7 day city and town weather. Daily and Hourly.\n",
    "\n",
    "url_seven_days = \"http://api.weatherapi.com/v1/forecast.json?key=370edf33fe024c448d8171449221306&q=Paris&days=7\"\n",
    "response_seven_days = requests.get(url_seven_days)\n",
    "data_seven_days = response_seven_days.json()\n",
    "\n",
    "high_temps = [temp[\"day\"][\"maxtemp_c\"] for temp in data_seven_days[\"forecast\"][\"forecastday\"]]\n",
    "\n",
    "for temp in high_temps:\n",
    "    if temp >= 24:\n",
    "        print(temp, \"degrees C is hot.\")\n",
    "    elif temp >= 12:\n",
    "        print(temp, \"degrees C is warm.\")\n",
    "    elif temp < 0:\n",
    "        print(temp, \"degrees C is cold.\")"
   ]
  },
  {
   "cell_type": "markdown",
   "metadata": {},
   "source": [
    "## 6) What will be the hottest day in the next three days? What is the high temperature on that day?"
   ]
  },
  {
   "cell_type": "code",
   "execution_count": 9,
   "metadata": {},
   "outputs": [
    {
     "name": "stdout",
     "output_type": "stream",
     "text": [
      "The hottest day in the next three days will be 2022-06-19. The temperature will be 37 degrees C.\n"
     ]
    }
   ],
   "source": [
    "temps = {}\n",
    "\n",
    "for temp in data_three_days[\"forecast\"][\"forecastday\"]:\n",
    "    temps[temp[\"date\"]] = temp[\"day\"][\"maxtemp_c\"]\n",
    "    \n",
    "print(f\"The hottest day in the next three days will be {max(temps)}. The temperature will be {max(temps.values()):.0f} degrees C.\")\n",
    "# print(temps, max(temps.values()))"
   ]
  },
  {
   "cell_type": "markdown",
   "metadata": {},
   "source": [
    "## 7) What's the weather looking like for the next 24+ hours in Miami, Florida?\n",
    "\n",
    "I'd like to know the temperature for every hour, and if it's going to have cloud cover of more than 50% say \"{temperature} and cloudy\" instead of just the temperature. \n",
    "\n",
    "- *Tip: You'll only need one day of forecast*"
   ]
  },
  {
   "cell_type": "code",
   "execution_count": 10,
   "metadata": {},
   "outputs": [
    {
     "name": "stdout",
     "output_type": "stream",
     "text": [
      "The temperature is 29 degrees C at 2022-06-16 00:00.\n",
      "The temperature is 29 degrees C at 2022-06-16 01:00.\n",
      "The temperature is 29 degrees C at 2022-06-16 02:00.\n",
      "The temperature is 29 degrees C at 2022-06-16 03:00.\n",
      "The temperature is 29 degrees C and cloudy at 2022-06-16 04:00\n",
      "The temperature is 28 degrees C and cloudy at 2022-06-16 05:00\n",
      "The temperature is 28 degrees C and cloudy at 2022-06-16 06:00\n",
      "The temperature is 28 degrees C and cloudy at 2022-06-16 07:00\n",
      "The temperature is 28 degrees C and cloudy at 2022-06-16 08:00\n",
      "The temperature is 29 degrees C and cloudy at 2022-06-16 09:00\n",
      "The temperature is 29 degrees C at 2022-06-16 10:00.\n",
      "The temperature is 31 degrees C and cloudy at 2022-06-16 11:00\n",
      "The temperature is 32 degrees C at 2022-06-16 12:00.\n",
      "The temperature is 33 degrees C and cloudy at 2022-06-16 13:00\n",
      "The temperature is 33 degrees C at 2022-06-16 14:00.\n",
      "The temperature is 33 degrees C at 2022-06-16 15:00.\n",
      "The temperature is 33 degrees C at 2022-06-16 16:00.\n",
      "The temperature is 32 degrees C at 2022-06-16 17:00.\n",
      "The temperature is 31 degrees C at 2022-06-16 18:00.\n",
      "The temperature is 29 degrees C at 2022-06-16 19:00.\n",
      "The temperature is 29 degrees C at 2022-06-16 20:00.\n",
      "The temperature is 29 degrees C at 2022-06-16 21:00.\n",
      "The temperature is 29 degrees C and cloudy at 2022-06-16 22:00\n",
      "The temperature is 29 degrees C and cloudy at 2022-06-16 23:00\n"
     ]
    }
   ],
   "source": [
    "url_miami = \"http://api.weatherapi.com/v1/forecast.json?key=370edf33fe024c448d8171449221306&q=Miami&days=1\"\n",
    "response_miami = requests.get(url_miami)\n",
    "data_miami = response_miami.json()\n",
    "\n",
    "for hour in data_miami[\"forecast\"][\"forecastday\"][0][\"hour\"]:    \n",
    "    time = hour[\"time\"]\n",
    "    temp = hour[\"temp_c\"]\n",
    "    cloud = hour[\"cloud\"]\n",
    "\n",
    "    if cloud > 50:\n",
    "        print(f\"The temperature is {temp:.0f} degrees C and cloudy at {time}\")\n",
    "    else:\n",
    "        print(f\"The temperature is {temp:.0f} degrees C at {time}.\")"
   ]
  },
  {
   "cell_type": "markdown",
   "metadata": {},
   "source": [
    "## 8) For the next 24-ish hours in Miami, what percent of the time is the temperature above 85 degrees?\n",
    "\n",
    "- *Tip: You might want to read up on [looping patterns](http://jonathansoma.com/lede/foundations-2017/classes/data%20structures/looping-patterns/)*"
   ]
  },
  {
   "cell_type": "code",
   "execution_count": 11,
   "metadata": {},
   "outputs": [
    {
     "name": "stdout",
     "output_type": "stream",
     "text": [
      "The temperature is above 85 degrees F roughly 33% of the time.\n"
     ]
    }
   ],
   "source": [
    "time_in_hours = 24\n",
    "hours_above_85 = 0\n",
    "\n",
    "for hour in data_miami[\"forecast\"][\"forecastday\"][0][\"hour\"]:    \n",
    "    temp = hour[\"temp_f\"]\n",
    "\n",
    "    if temp > 85:\n",
    "        hours_above_85 = hours_above_85 + 1\n",
    "    \n",
    "pct_time = (hours_above_85 / time_in_hours) * 100\n",
    "print(f\"The temperature is above 85 degrees F roughly {pct_time:.0f}% of the time.\")"
   ]
  },
  {
   "cell_type": "markdown",
   "metadata": {},
   "source": [
    "## 9) How much will it cost if you need to use 1,500,000 API calls?\n",
    "\n",
    "You are only allowed 1,000,000 API calls each month. If you were really bad at this homework or made some awful loops, WeatherAPI might shut down your free access. \n",
    "\n",
    "* *Tip: this involves looking somewhere that isn't the normal documentation.*"
   ]
  },
  {
   "cell_type": "code",
   "execution_count": 12,
   "metadata": {},
   "outputs": [],
   "source": [
    "# https://www.weatherapi.com/pricing.aspx\n",
    "# It would cost $4 to make 2 million API calls."
   ]
  },
  {
   "cell_type": "markdown",
   "metadata": {},
   "source": [
    "## 10) You're too poor to spend more money! What else could you do instead of give them money?\n",
    "\n",
    "* *Tip: I'm not endorsing being sneaky, but newsrooms and students are both generally poverty-stricken.*"
   ]
  },
  {
   "cell_type": "code",
   "execution_count": 13,
   "metadata": {},
   "outputs": [],
   "source": [
    "# - Wait until the following month to make an additional one million calls in the free tier.\n",
    "# - Make an additional account for the remaining 500,000 API calls."
   ]
  }
 ],
 "metadata": {
  "kernelspec": {
   "display_name": "Python 3 (ipykernel)",
   "language": "python",
   "name": "python3"
  },
  "language_info": {
   "codemirror_mode": {
    "name": "ipython",
    "version": 3
   },
   "file_extension": ".py",
   "mimetype": "text/x-python",
   "name": "python",
   "nbconvert_exporter": "python",
   "pygments_lexer": "ipython3",
   "version": "3.10.3"
  }
 },
 "nbformat": 4,
 "nbformat_minor": 1
}
